{
 "cells": [
  {
   "cell_type": "code",
   "execution_count": 1,
   "id": "6939a53c-4ee9-471e-b49e-c8223304167b",
   "metadata": {},
   "outputs": [],
   "source": [
    "import pandas as pd\n",
    "import numpy as np"
   ]
  },
  {
   "cell_type": "code",
   "execution_count": 2,
   "id": "0016b2ac-e62a-4f19-b669-75372f18c3c4",
   "metadata": {},
   "outputs": [],
   "source": [
    "import afe"
   ]
  },
  {
   "cell_type": "code",
   "execution_count": 3,
   "id": "fe88d000-8d83-4d2e-99f4-3702c440a817",
   "metadata": {},
   "outputs": [],
   "source": [
    "df = pd.DataFrame({'one': [1,2,3,10], 'two': [2,3,4,5], 'class': [1,1,1,0], 'label': [0,0,0,1]})"
   ]
  },
  {
   "cell_type": "code",
   "execution_count": 4,
   "id": "9d1a72d6-f3b5-484c-aa6c-76044c3bf02d",
   "metadata": {},
   "outputs": [],
   "source": [
    "x = df[['one','two','class']]\n",
    "y = df['label']"
   ]
  },
  {
   "cell_type": "code",
   "execution_count": 10,
   "id": "e4406a59-59cf-47d0-8df1-c2a477ae2348",
   "metadata": {},
   "outputs": [
    {
     "data": {
      "text/html": [
       "<div>\n",
       "<style scoped>\n",
       "    .dataframe tbody tr th:only-of-type {\n",
       "        vertical-align: middle;\n",
       "    }\n",
       "\n",
       "    .dataframe tbody tr th {\n",
       "        vertical-align: top;\n",
       "    }\n",
       "\n",
       "    .dataframe thead th {\n",
       "        text-align: right;\n",
       "    }\n",
       "</style>\n",
       "<table border=\"1\" class=\"dataframe\">\n",
       "  <thead>\n",
       "    <tr style=\"text-align: right;\">\n",
       "      <th></th>\n",
       "      <th>one</th>\n",
       "      <th>two</th>\n",
       "      <th>class</th>\n",
       "    </tr>\n",
       "  </thead>\n",
       "  <tbody>\n",
       "    <tr>\n",
       "      <th>0</th>\n",
       "      <td>1</td>\n",
       "      <td>2</td>\n",
       "      <td>1</td>\n",
       "    </tr>\n",
       "    <tr>\n",
       "      <th>1</th>\n",
       "      <td>2</td>\n",
       "      <td>3</td>\n",
       "      <td>1</td>\n",
       "    </tr>\n",
       "    <tr>\n",
       "      <th>2</th>\n",
       "      <td>3</td>\n",
       "      <td>4</td>\n",
       "      <td>1</td>\n",
       "    </tr>\n",
       "    <tr>\n",
       "      <th>3</th>\n",
       "      <td>10</td>\n",
       "      <td>5</td>\n",
       "      <td>0</td>\n",
       "    </tr>\n",
       "  </tbody>\n",
       "</table>\n",
       "</div>"
      ],
      "text/plain": [
       "   one  two  class\n",
       "0    1    2      1\n",
       "1    2    3      1\n",
       "2    3    4      1\n",
       "3   10    5      0"
      ]
     },
     "execution_count": 10,
     "metadata": {},
     "output_type": "execute_result"
    }
   ],
   "source": [
    "x"
   ]
  },
  {
   "cell_type": "code",
   "execution_count": 12,
   "id": "14bca3b4-4e9f-40b8-b93a-261ebf769a4f",
   "metadata": {},
   "outputs": [
    {
     "name": "stderr",
     "output_type": "stream",
     "text": [
      "/Users/juliusriel/miniforge3/lib/python3.9/site-packages/pandas/core/arraylike.py:397: RuntimeWarning: divide by zero encountered in log\n",
      "  result = getattr(ufunc, method)(*inputs, **kwargs)\n"
     ]
    },
    {
     "data": {
      "text/html": [
       "<div>\n",
       "<style scoped>\n",
       "    .dataframe tbody tr th:only-of-type {\n",
       "        vertical-align: middle;\n",
       "    }\n",
       "\n",
       "    .dataframe tbody tr th {\n",
       "        vertical-align: top;\n",
       "    }\n",
       "\n",
       "    .dataframe thead th {\n",
       "        text-align: right;\n",
       "    }\n",
       "</style>\n",
       "<table border=\"1\" class=\"dataframe\">\n",
       "  <thead>\n",
       "    <tr style=\"text-align: right;\">\n",
       "      <th></th>\n",
       "      <th>log(one)</th>\n",
       "      <th>log(two)</th>\n",
       "      <th>log(class)</th>\n",
       "    </tr>\n",
       "  </thead>\n",
       "  <tbody>\n",
       "    <tr>\n",
       "      <th>0</th>\n",
       "      <td>0.000000</td>\n",
       "      <td>0.693147</td>\n",
       "      <td>0.0</td>\n",
       "    </tr>\n",
       "    <tr>\n",
       "      <th>1</th>\n",
       "      <td>0.693147</td>\n",
       "      <td>1.098612</td>\n",
       "      <td>0.0</td>\n",
       "    </tr>\n",
       "    <tr>\n",
       "      <th>2</th>\n",
       "      <td>1.098612</td>\n",
       "      <td>1.386294</td>\n",
       "      <td>0.0</td>\n",
       "    </tr>\n",
       "    <tr>\n",
       "      <th>3</th>\n",
       "      <td>2.302585</td>\n",
       "      <td>1.609438</td>\n",
       "      <td>-inf</td>\n",
       "    </tr>\n",
       "  </tbody>\n",
       "</table>\n",
       "</div>"
      ],
      "text/plain": [
       "   log(one)  log(two)  log(class)\n",
       "0  0.000000  0.693147         0.0\n",
       "1  0.693147  1.098612         0.0\n",
       "2  1.098612  1.386294         0.0\n",
       "3  2.302585  1.609438        -inf"
      ]
     },
     "execution_count": 12,
     "metadata": {},
     "output_type": "execute_result"
    }
   ],
   "source": [
    "afe.add(x)"
   ]
  },
  {
   "cell_type": "code",
   "execution_count": 31,
   "id": "10b3501b-5341-4c06-9743-980fda1a8b28",
   "metadata": {},
   "outputs": [
    {
     "data": {
      "text/plain": [
       "['one', 'two', 'class']"
      ]
     },
     "execution_count": 31,
     "metadata": {},
     "output_type": "execute_result"
    }
   ],
   "source": [
    "x.columns.tolist()"
   ]
  },
  {
   "cell_type": "code",
   "execution_count": 32,
   "id": "70dbc9a1-4083-47c5-a7c6-3f0a449e1465",
   "metadata": {},
   "outputs": [
    {
     "data": {
      "text/plain": [
       "0     3\n",
       "1     5\n",
       "2     7\n",
       "3    15\n",
       "dtype: int64"
      ]
     },
     "execution_count": 32,
     "metadata": {},
     "output_type": "execute_result"
    }
   ],
   "source": [
    "x['one'] + x['two']"
   ]
  },
  {
   "cell_type": "code",
   "execution_count": 35,
   "id": "01a2c472-4a43-4876-8ac6-ea4221d31fe2",
   "metadata": {},
   "outputs": [],
   "source": [
    "def add(x):\n",
    "    x_ = pd.DataFrame()\n",
    "    for name in x.columns.tolist():\n",
    "        column_names = x.columns.tolist()\n",
    "        column_names.remove(name)\n",
    "        for oth_name in column_names:\n",
    "            new_col_name = \"{} {} {}\".format(name, '+', oth_name)\n",
    "            x_[new_col_name] = x[name] + x[oth_name]\n",
    "    return x_"
   ]
  },
  {
   "cell_type": "code",
   "execution_count": 39,
   "id": "4443062f-d704-463c-ab8e-dbb00e3eb06b",
   "metadata": {},
   "outputs": [],
   "source": [
    "def multiply(x):\n",
    "    x_ = pd.DataFrame()\n",
    "    for name in x.columns.tolist():\n",
    "        column_names = x.columns.tolist()\n",
    "        column_names.remove(name)\n",
    "        for oth_name in column_names:\n",
    "            new_col_name = \"{} {} {}\".format(name, '*', oth_name)\n",
    "            x_[new_col_name] = x[name] * x[oth_name]\n",
    "    return x_"
   ]
  },
  {
   "cell_type": "code",
   "execution_count": 40,
   "id": "a9113669-92a4-4df4-b11d-4b514a8f924b",
   "metadata": {},
   "outputs": [
    {
     "data": {
      "text/html": [
       "<div>\n",
       "<style scoped>\n",
       "    .dataframe tbody tr th:only-of-type {\n",
       "        vertical-align: middle;\n",
       "    }\n",
       "\n",
       "    .dataframe tbody tr th {\n",
       "        vertical-align: top;\n",
       "    }\n",
       "\n",
       "    .dataframe thead th {\n",
       "        text-align: right;\n",
       "    }\n",
       "</style>\n",
       "<table border=\"1\" class=\"dataframe\">\n",
       "  <thead>\n",
       "    <tr style=\"text-align: right;\">\n",
       "      <th></th>\n",
       "      <th>one * two</th>\n",
       "      <th>one * class</th>\n",
       "      <th>two * one</th>\n",
       "      <th>two * class</th>\n",
       "      <th>class * one</th>\n",
       "      <th>class * two</th>\n",
       "    </tr>\n",
       "  </thead>\n",
       "  <tbody>\n",
       "    <tr>\n",
       "      <th>0</th>\n",
       "      <td>2</td>\n",
       "      <td>1</td>\n",
       "      <td>2</td>\n",
       "      <td>2</td>\n",
       "      <td>1</td>\n",
       "      <td>2</td>\n",
       "    </tr>\n",
       "    <tr>\n",
       "      <th>1</th>\n",
       "      <td>6</td>\n",
       "      <td>2</td>\n",
       "      <td>6</td>\n",
       "      <td>3</td>\n",
       "      <td>2</td>\n",
       "      <td>3</td>\n",
       "    </tr>\n",
       "    <tr>\n",
       "      <th>2</th>\n",
       "      <td>12</td>\n",
       "      <td>3</td>\n",
       "      <td>12</td>\n",
       "      <td>4</td>\n",
       "      <td>3</td>\n",
       "      <td>4</td>\n",
       "    </tr>\n",
       "    <tr>\n",
       "      <th>3</th>\n",
       "      <td>50</td>\n",
       "      <td>0</td>\n",
       "      <td>50</td>\n",
       "      <td>0</td>\n",
       "      <td>0</td>\n",
       "      <td>0</td>\n",
       "    </tr>\n",
       "  </tbody>\n",
       "</table>\n",
       "</div>"
      ],
      "text/plain": [
       "   one * two  one * class  two * one  two * class  class * one  class * two\n",
       "0          2            1          2            2            1            2\n",
       "1          6            2          6            3            2            3\n",
       "2         12            3         12            4            3            4\n",
       "3         50            0         50            0            0            0"
      ]
     },
     "execution_count": 40,
     "metadata": {},
     "output_type": "execute_result"
    }
   ],
   "source": [
    "multiply(x)"
   ]
  },
  {
   "cell_type": "code",
   "execution_count": 41,
   "id": "a5355869-7323-4a34-b0bb-4b1316967684",
   "metadata": {},
   "outputs": [],
   "source": [
    "g = 'hi'"
   ]
  },
  {
   "cell_type": "code",
   "execution_count": 45,
   "id": "7425d5a3-4aa7-4b04-b978-bed9b07402da",
   "metadata": {},
   "outputs": [
    {
     "data": {
      "text/plain": [
       "'log(hi)'"
      ]
     },
     "execution_count": 45,
     "metadata": {},
     "output_type": "execute_result"
    }
   ],
   "source": [
    "\"log({})\".format(g)"
   ]
  },
  {
   "cell_type": "code",
   "execution_count": 48,
   "id": "ca475f06-d104-438c-8690-90fde4a823e9",
   "metadata": {},
   "outputs": [
    {
     "data": {
      "text/plain": [
       "0    0.000000\n",
       "1    0.693147\n",
       "2    1.098612\n",
       "3    2.302585\n",
       "Name: one, dtype: float64"
      ]
     },
     "execution_count": 48,
     "metadata": {},
     "output_type": "execute_result"
    }
   ],
   "source": [
    "np.log(x['one'])"
   ]
  },
  {
   "cell_type": "code",
   "execution_count": null,
   "id": "2babb4c7-004c-4c96-b005-bad29291ee97",
   "metadata": {},
   "outputs": [],
   "source": []
  }
 ],
 "metadata": {
  "kernelspec": {
   "display_name": "Python 3 (ipykernel)",
   "language": "python",
   "name": "python3"
  },
  "language_info": {
   "codemirror_mode": {
    "name": "ipython",
    "version": 3
   },
   "file_extension": ".py",
   "mimetype": "text/x-python",
   "name": "python",
   "nbconvert_exporter": "python",
   "pygments_lexer": "ipython3",
   "version": "3.9.9"
  }
 },
 "nbformat": 4,
 "nbformat_minor": 5
}
